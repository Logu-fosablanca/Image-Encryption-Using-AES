{
 "cells": [
  {
   "cell_type": "code",
   "execution_count": 1,
   "id": "94f0e566",
   "metadata": {},
   "outputs": [
    {
     "data": {
      "text/plain": [
       "'D:\\\\Crypto\\\\Crypto-project'"
      ]
     },
     "execution_count": 1,
     "metadata": {},
     "output_type": "execute_result"
    }
   ],
   "source": [
    "import base64\n",
    "import hashlib \n",
    "import cv2\n",
    "import numpy as np\n",
    "import pandas as pd\n",
    "from matplotlib import pyplot as plt\n",
    "from Crypto.Cipher import AES\n",
    "from Crypto.Random import new as Random\n",
    "from hashlib import sha256\n",
    "from base64 import b64encode,b64decode\n",
    "import os\n",
    "from tkinter import *\n",
    "from tkinter.filedialog import askopenfilename \n",
    "from tkinter import filedialog\n",
    "from PIL import ImageTk, Image\n",
    "import PIL\n",
    "from tkinter import ttk, filedialog\n",
    "\n",
    "\n",
    "from sklearn.linear_model import LinearRegression\n",
    "os.getcwd()"
   ]
  },
  {
   "cell_type": "code",
   "execution_count": 2,
   "id": "9eee3745",
   "metadata": {},
   "outputs": [],
   "source": [
    "def EncryptedKey():\n",
    "    root = Tk()\n",
    "    root.geometry(\"800x200\")\n",
    "    entry_label= Label(root, text=\"Choose the Location of the Keys\")\n",
    "    entry = Entry( root , font = 35, width = 60)\n",
    "    entry.grid( row = 2 , column = 2 )\n",
    "    def key_loc():\n",
    "        folder_selected = filedialog.askdirectory()\n",
    "        if entry.index(\"end\") == 0:\n",
    "            entry.insert(END,folder_selected)\n",
    "            b1=Button(root,text=\"Choose\",font=35,command= key_loc)\n",
    "            b1.grid(row=2,column=4)\n",
    "            print(folder_selected)\n",
    "            global folder\n",
    "            folder = folder_selected\n",
    "        else:\n",
    "            root.destroy()\n",
    "        print(folder)\n",
    "    key_loc()\n",
    "    root.mainloop()\n",
    "    \n",
    "    \n",
    "def Decrypt(K1,K2):\n",
    "    h= np.shape(K1)[0]\n",
    "    w= np.shape(K2)[1]\n",
    "    CK= np.ones((h,w,1),dtype='uint8')\n",
    "    for i in range(h):\n",
    "        for j in range(w):\n",
    "            CK[i][j][0]=P[i][j][0] ^ R[i][j][0]\n",
    "#     print(CK)\n",
    "    K=[]\n",
    "    for i in range(len(CK)):\n",
    "        K.append(0)\n",
    "        count=0\n",
    "        for j in range(len(CK[i])):\n",
    "            if CK[i][j][0] == 0:\n",
    "                count+=1\n",
    "        K[i]= chr(count)\n",
    "    K=\"\".join(K)\n",
    "    K\n",
    "    return K\n",
    "\n",
    "def get_image():\n",
    "    root = Tk()\n",
    "    root.geometry(\"800x200\")\n",
    "    entry_label= Label(root, text=\"Choose the Location of the Keys\")\n",
    "    entry = Entry( root , font = 35, width = 60)\n",
    "    entry.grid( row = 2 , column = 2 )\n",
    "    def image_loc():\n",
    "        file = askopenfilename(filetypes= ((\"Encrypted Image file\", \"*.txt\"),(\"All files\", \"*.*\")))\n",
    "        if entry.index(\"end\") == 0:\n",
    "            entry.insert(END,file)\n",
    "            b1=Button(root,text=\"Choose\",font=35,command= image_loc)\n",
    "            b1.grid(row=2,column=4)\n",
    "#             print(file)\n",
    "            global file_loc\n",
    "            file_loc = file\n",
    "        else:\n",
    "            root.destroy()\n",
    "        print(file_loc)\n",
    "    image_loc()\n",
    "    root.mainloop()\n",
    "    return file_loc"
   ]
  },
  {
   "cell_type": "code",
   "execution_count": 3,
   "id": "9f489c02",
   "metadata": {},
   "outputs": [
    {
     "name": "stdout",
     "output_type": "stream",
     "text": [
      "D:/Crypto/Crypto-project/Imagekeys\n",
      "D:/Crypto/Crypto-project/Imagekeys\n",
      "ugvvjl;lkdfxgchjkl;;kfdfcgh ;vzerxdvghj\n",
      "994816477b2b7ddcf84d498309f110cdbc8d9124cd1fa481e1975e80b4f1abe6\n",
      "D:/Crypto/Crypto-project/media/cipher.txt\n",
      "D:/Crypto/Crypto-project/media/cipher.txt\n",
      "\n",
      "7414112\n"
     ]
    }
   ],
   "source": [
    "EncryptedKey()\n",
    "os.chdir(folder)\n",
    "R=cv2.imread('K1.png')\n",
    "P=cv2.imread('K2.png')\n",
    "K=Decrypt(R,P)\n",
    "print(K)\n",
    "SK = hashlib.sha256(K.encode())\n",
    "print(SK.hexdigest())\n",
    "file=get_image()\n",
    "print(file)\n",
    "\n",
    "f = open(file,'r',encoding='utf-8')\n",
    "cipher=f.read()\n",
    "f.close()\n",
    "\n",
    "# print(cipher)\n",
    "cipher = cipher.split(' ')\n",
    "\n",
    "\n",
    "txt = []\n",
    "for each in cipher:\n",
    "    try:\n",
    "        ch = ord(each) \n",
    "        txt.append(int(ch))\n",
    "#         print(chr(ch))\n",
    "    except:\n",
    "        print(each)\n",
    "\n",
    "imgbase64=\"\"\n",
    "\n",
    "for t in txt:\n",
    "    imgbase64+=chr(t)+\" \"\n",
    "print(len(imgbase64))\n",
    "\n",
    "    "
   ]
  },
  {
   "cell_type": "code",
   "execution_count": 4,
   "id": "1e9a8924",
   "metadata": {},
   "outputs": [],
   "source": [
    "class AESCipher_OFB:\n",
    "    def __init__(self,data,key):\n",
    "        self.block_size = 16\n",
    "        self.data = data\n",
    "        self.key = sha256(key.encode()).digest()[:32]\n",
    "        self.pad = lambda s: s + (self.block_size - len(s) % self.block_size) * chr (self.block_size - len(s) % self.block_size)\n",
    "        self.unpad = lambda s: s[:-ord(s[len(s) - 1:])]\n",
    "\n",
    "    def encrypt(self):\n",
    "        plain_text = self.pad(self.data)\n",
    "        iv = Random().read(AES.block_size)\n",
    "        print(iv)\n",
    "        cipher = AES.new(self.key,AES.MODE_OFB,iv)\n",
    "#         print((cipher_text))\n",
    "        return b64encode(iv + cipher.encrypt(plain_text.encode())).decode()   \n",
    "    \n",
    "    \n",
    "    def decrypt(self):\n",
    "        cipher_text = b64decode(self.data.encode())\n",
    "#         print(cipher_text)\n",
    "        iv = cipher_text[:self.block_size]\n",
    "        cipher = AES.new(self.key,AES.MODE_OFB,iv)\n",
    "        return self.unpad(cipher.decrypt(cipher_text[self.block_size:])).decode()"
   ]
  },
  {
   "cell_type": "code",
   "execution_count": 5,
   "id": "a89c1b2c",
   "metadata": {},
   "outputs": [
    {
     "ename": "UnicodeDecodeError",
     "evalue": "'utf-8' codec can't decode byte 0xd9 in position 1: invalid continuation byte",
     "output_type": "error",
     "traceback": [
      "\u001b[1;31m---------------------------------------------------------------------------\u001b[0m",
      "\u001b[1;31mUnicodeDecodeError\u001b[0m                        Traceback (most recent call last)",
      "\u001b[1;32m<ipython-input-5-da442b1099c2>\u001b[0m in \u001b[0;36m<module>\u001b[1;34m\u001b[0m\n\u001b[1;32m----> 1\u001b[1;33m \u001b[0mde\u001b[0m \u001b[1;33m=\u001b[0m \u001b[0mAESCipher_OFB\u001b[0m\u001b[1;33m(\u001b[0m\u001b[0mimgbase64\u001b[0m\u001b[1;33m,\u001b[0m\u001b[0mSK\u001b[0m\u001b[1;33m.\u001b[0m\u001b[0mhexdigest\u001b[0m\u001b[1;33m(\u001b[0m\u001b[1;33m)\u001b[0m\u001b[1;33m)\u001b[0m\u001b[1;33m.\u001b[0m\u001b[0mdecrypt\u001b[0m\u001b[1;33m(\u001b[0m\u001b[1;33m)\u001b[0m\u001b[1;33m\u001b[0m\u001b[1;33m\u001b[0m\u001b[0m\n\u001b[0m\u001b[0;32m      2\u001b[0m \u001b[0mde\u001b[0m \u001b[1;33m=\u001b[0m \u001b[0mde\u001b[0m\u001b[1;33m.\u001b[0m\u001b[0mencode\u001b[0m\u001b[1;33m(\u001b[0m\u001b[1;34m\"utf-8\"\u001b[0m\u001b[1;33m)\u001b[0m\u001b[1;33m\u001b[0m\u001b[1;33m\u001b[0m\u001b[0m\n\u001b[0;32m      3\u001b[0m \u001b[0mprint\u001b[0m\u001b[1;33m(\u001b[0m\u001b[0mlen\u001b[0m\u001b[1;33m(\u001b[0m\u001b[0mde\u001b[0m\u001b[1;33m)\u001b[0m\u001b[1;33m)\u001b[0m\u001b[1;33m\u001b[0m\u001b[1;33m\u001b[0m\u001b[0m\n",
      "\u001b[1;32m<ipython-input-4-e01e5fc39381>\u001b[0m in \u001b[0;36mdecrypt\u001b[1;34m(self)\u001b[0m\n\u001b[0;32m     21\u001b[0m         \u001b[0miv\u001b[0m \u001b[1;33m=\u001b[0m \u001b[0mcipher_text\u001b[0m\u001b[1;33m[\u001b[0m\u001b[1;33m:\u001b[0m\u001b[0mself\u001b[0m\u001b[1;33m.\u001b[0m\u001b[0mblock_size\u001b[0m\u001b[1;33m]\u001b[0m\u001b[1;33m\u001b[0m\u001b[1;33m\u001b[0m\u001b[0m\n\u001b[0;32m     22\u001b[0m         \u001b[0mcipher\u001b[0m \u001b[1;33m=\u001b[0m \u001b[0mAES\u001b[0m\u001b[1;33m.\u001b[0m\u001b[0mnew\u001b[0m\u001b[1;33m(\u001b[0m\u001b[0mself\u001b[0m\u001b[1;33m.\u001b[0m\u001b[0mkey\u001b[0m\u001b[1;33m,\u001b[0m\u001b[0mAES\u001b[0m\u001b[1;33m.\u001b[0m\u001b[0mMODE_OFB\u001b[0m\u001b[1;33m,\u001b[0m\u001b[0miv\u001b[0m\u001b[1;33m)\u001b[0m\u001b[1;33m\u001b[0m\u001b[1;33m\u001b[0m\u001b[0m\n\u001b[1;32m---> 23\u001b[1;33m         \u001b[1;32mreturn\u001b[0m \u001b[0mself\u001b[0m\u001b[1;33m.\u001b[0m\u001b[0munpad\u001b[0m\u001b[1;33m(\u001b[0m\u001b[0mcipher\u001b[0m\u001b[1;33m.\u001b[0m\u001b[0mdecrypt\u001b[0m\u001b[1;33m(\u001b[0m\u001b[0mcipher_text\u001b[0m\u001b[1;33m[\u001b[0m\u001b[0mself\u001b[0m\u001b[1;33m.\u001b[0m\u001b[0mblock_size\u001b[0m\u001b[1;33m:\u001b[0m\u001b[1;33m]\u001b[0m\u001b[1;33m)\u001b[0m\u001b[1;33m)\u001b[0m\u001b[1;33m.\u001b[0m\u001b[0mdecode\u001b[0m\u001b[1;33m(\u001b[0m\u001b[1;33m)\u001b[0m\u001b[1;33m\u001b[0m\u001b[1;33m\u001b[0m\u001b[0m\n\u001b[0m",
      "\u001b[1;31mUnicodeDecodeError\u001b[0m: 'utf-8' codec can't decode byte 0xd9 in position 1: invalid continuation byte"
     ]
    }
   ],
   "source": [
    "\n",
    "de = AESCipher_OFB(imgbase64,SK.hexdigest()).decrypt()\n",
    "de = de.encode(\"utf-8\")\n",
    "print(len(de))"
   ]
  },
  {
   "cell_type": "code",
   "execution_count": null,
   "id": "c4e2c14e",
   "metadata": {},
   "outputs": [],
   "source": [
    "with open(\"DecryptedImg1.png\", \"wb\") as fh:\n",
    "    fh.write(base64.decodebytes(de))"
   ]
  },
  {
   "cell_type": "code",
   "execution_count": null,
   "id": "bfb9510a",
   "metadata": {},
   "outputs": [],
   "source": [
    "import base64\n",
    "from IPython.display import Image\n",
    "Image(filename=\"DecryptedImg1.png\") "
   ]
  },
  {
   "cell_type": "code",
   "execution_count": null,
   "id": "c7d16ccc",
   "metadata": {},
   "outputs": [],
   "source": [
    "import os\n",
    "os.remove(file)\n",
    "\n",
    "# os.remove(\"media/cipher.txt\")"
   ]
  },
  {
   "cell_type": "code",
   "execution_count": null,
   "id": "2336d43a",
   "metadata": {},
   "outputs": [],
   "source": []
  }
 ],
 "metadata": {
  "kernelspec": {
   "display_name": "Python 3",
   "language": "python",
   "name": "python3"
  },
  "language_info": {
   "codemirror_mode": {
    "name": "ipython",
    "version": 3
   },
   "file_extension": ".py",
   "mimetype": "text/x-python",
   "name": "python",
   "nbconvert_exporter": "python",
   "pygments_lexer": "ipython3",
   "version": "3.8.8"
  }
 },
 "nbformat": 4,
 "nbformat_minor": 5
}
